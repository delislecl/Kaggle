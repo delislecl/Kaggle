{
 "cells": [
  {
   "cell_type": "markdown",
   "metadata": {},
   "source": [
    "### Load libraries"
   ]
  },
  {
   "cell_type": "code",
   "execution_count": 3,
   "metadata": {},
   "outputs": [],
   "source": [
    "import pandas as pd\n",
    "import numpy as np\n",
    "from math import radians, cos, sin, asin, sqrt\n",
    "pd.options.mode.chained_assignment = None\n",
    "import xgboost as xgb\n",
    "from xgboost.sklearn import XGBRegressor\n",
    "from sklearn.model_selection import cross_val_score, train_test_split\n",
    "import time\n",
    "import math"
   ]
  },
  {
   "cell_type": "markdown",
   "metadata": {},
   "source": [
    "### Loading data"
   ]
  },
  {
   "cell_type": "code",
   "execution_count": 4,
   "metadata": {},
   "outputs": [],
   "source": [
    "dfTest = pd.read_csv(\"Data/test.csv\")\n",
    "dfTrain = pd.read_csv(\"Data/train.csv\")"
   ]
  },
  {
   "cell_type": "markdown",
   "metadata": {},
   "source": [
    "### Define functions needed"
   ]
  },
  {
   "cell_type": "code",
   "execution_count": 5,
   "metadata": {
    "collapsed": true
   },
   "outputs": [],
   "source": [
    "#Adding distance in km\n",
    "# credit to: https://stackoverflow.com/questions/15736995/how-can-i-quickly-estimate-the-distance-between-two-latitude-longitude-points\n",
    "def haversine(lon1, lat1, lon2, lat2):\n",
    "    \"\"\"\n",
    "    Calculate the great circle distance between two points \n",
    "    on the earth (specified in decimal degrees)\n",
    "    \"\"\"\n",
    "    # convert decimal degrees to radians \n",
    "    lon1, lat1, lon2, lat2 = map(radians, [lon1, lat1, lon2, lat2])\n",
    "    # haversine formula \n",
    "    dlon = lon2 - lon1 \n",
    "    dlat = lat2 - lat1 \n",
    "    a = sin(dlat/2)**2 + cos(lat1) * cos(lat2) * sin(dlon/2)**2\n",
    "    c = 2 * asin(sqrt(a)) \n",
    "    km = 6367 * c\n",
    "    return km\n",
    "\n",
    "# A function to calculate Root Mean Squared Logarithmic Error (RMSLE)\n",
    "# credit: https://www.kaggle.com/marknagelberg/rmsle-function\n",
    "def rmsle(y, y0, log = True):\n",
    "    assert len(y) == len(y0)\n",
    "    if log:\n",
    "        return np.sqrt(np.mean(np.power(np.log(y+1)-np.log(y0+1), 2)))\n",
    "    else:\n",
    "        return np.sqrt(np.mean(np.power(y-y0, 2)))\n",
    "    "
   ]
  },
  {
   "cell_type": "markdown",
   "metadata": {},
   "source": [
    "### Feature engineering"
   ]
  },
  {
   "cell_type": "code",
   "execution_count": null,
   "metadata": {
    "collapsed": true
   },
   "outputs": [],
   "source": [
    "#Concat data for featuring engineering\n",
    "features = dfTest.columns\n",
    "label = \"trip_duration\"\n",
    "data = pd.concat([dfTrain[features], dfTest], keys=['train','test'])\n",
    "\n",
    "#Add datetime infos in diff columns\n",
    "data['pickup_datetime'] = pd.to_datetime(data['pickup_datetime'])\n",
    "data['pickup_year'] = data['pickup_datetime'].dt.year\n",
    "data['pickup_month'] = data['pickup_datetime'].dt.month\n",
    "data['pickup_weekday'] = data['pickup_datetime'].dt.weekday\n",
    "data['pickup_day'] = data['pickup_datetime'].dt.day\n",
    "data['pickup_hour'] = data['pickup_datetime'].dt.hour\n",
    "data['pickup_minute'] = data['pickup_datetime'].dt.minute\n",
    "\n",
    "data.drop('pickup_datetime', axis=1, inplace=True)\n",
    "data.drop('pickup_year', axis=1, inplace=True)\n",
    "\n",
    "#Change storeflag in continue\n",
    "data_dict = {'Y':1, 'N':0}\n",
    "data_tf = data['store_and_fwd_flag'].map(data_dict)\n",
    "data['store_and_fwd_flag'].update(data_tf)\n",
    "\n",
    "#Add distance (takes a while)\n",
    "data['distance'] = data.apply(lambda row: haversine(row['pickup_latitude'], row['pickup_longitude'], row['dropoff_latitude'], row['dropoff_longitude']), axis=1)\n",
    "\n",
    "#Drop tails\n",
    "train_set = data.loc['train']\n",
    "test_set = data.loc['test']\n",
    "data_temp = train_set\n",
    "data_temp[label] = dfTrain[label]\n",
    "data_temp = data_temp[data_temp[label] < 1800000]\n",
    "target = data_temp[label]\n",
    "target_log = np.log(target)\n",
    "train_set = data_temp\n",
    "data = train_set\n",
    "\n",
    "#Drop id and labels\n",
    "data = train_set.drop(['id', label], axis=1).astype(float)"
   ]
  },
  {
   "cell_type": "markdown",
   "metadata": {},
   "source": [
    "### Train model"
   ]
  },
  {
   "cell_type": "code",
   "execution_count": 31,
   "metadata": {},
   "outputs": [
    {
     "name": "stdout",
     "output_type": "stream",
     "text": [
      "X_train: (1239844, 13)  Y_train: (1239844,)  X_test: (218796, 13)  Y_test: (218796,)\n",
      "[0]\tvalidation_0-rmse:5.42105\n",
      "Will train until validation_0-rmse hasn't improved in 50 rounds.\n",
      "[50]\tvalidation_0-rmse:0.488814\n",
      "[100]\tvalidation_0-rmse:0.458033\n",
      "[150]\tvalidation_0-rmse:0.445328\n",
      "[200]\tvalidation_0-rmse:0.436578\n",
      "[250]\tvalidation_0-rmse:0.430399\n",
      "[300]\tvalidation_0-rmse:0.42656\n",
      "[350]\tvalidation_0-rmse:0.42254\n",
      "[400]\tvalidation_0-rmse:0.41947\n",
      "[450]\tvalidation_0-rmse:0.417358\n",
      "[500]\tvalidation_0-rmse:0.415543\n",
      "[550]\tvalidation_0-rmse:0.414311\n",
      "[600]\tvalidation_0-rmse:0.413014\n",
      "[650]\tvalidation_0-rmse:0.411849\n",
      "[700]\tvalidation_0-rmse:0.411114\n",
      "[750]\tvalidation_0-rmse:0.410466\n",
      "[800]\tvalidation_0-rmse:0.409847\n",
      "[850]\tvalidation_0-rmse:0.408962\n",
      "[900]\tvalidation_0-rmse:0.408127\n",
      "[950]\tvalidation_0-rmse:0.407167\n",
      "[1000]\tvalidation_0-rmse:0.406649\n",
      "[1050]\tvalidation_0-rmse:0.406001\n",
      "[1100]\tvalidation_0-rmse:0.405298\n",
      "[1150]\tvalidation_0-rmse:0.404763\n",
      "[1200]\tvalidation_0-rmse:0.404239\n",
      "[1250]\tvalidation_0-rmse:0.403643\n",
      "[1300]\tvalidation_0-rmse:0.403234\n",
      "[1350]\tvalidation_0-rmse:0.402911\n",
      "[1400]\tvalidation_0-rmse:0.402538\n",
      "[1450]\tvalidation_0-rmse:0.402364\n",
      "[1500]\tvalidation_0-rmse:0.402129\n",
      "[1550]\tvalidation_0-rmse:0.401739\n",
      "[1600]\tvalidation_0-rmse:0.401406\n",
      "[1650]\tvalidation_0-rmse:0.401332\n",
      "[1700]\tvalidation_0-rmse:0.401022\n",
      "[1750]\tvalidation_0-rmse:0.400881\n",
      "[1800]\tvalidation_0-rmse:0.400613\n",
      "[1850]\tvalidation_0-rmse:0.400286\n",
      "[1900]\tvalidation_0-rmse:0.400021\n",
      "[1950]\tvalidation_0-rmse:0.399936\n",
      "[2000]\tvalidation_0-rmse:0.399755\n",
      "[2050]\tvalidation_0-rmse:0.399551\n",
      "[2100]\tvalidation_0-rmse:0.399382\n",
      "[2150]\tvalidation_0-rmse:0.399343\n",
      "[2200]\tvalidation_0-rmse:0.399311\n",
      "Stopping. Best iteration:\n",
      "[2175]\tvalidation_0-rmse:0.399281\n",
      "\n",
      "5363.5843341350555\n"
     ]
    }
   ],
   "source": [
    "# set n_estimator=5000  to increase score\n",
    "model = XGBRegressor(n_estimators=5000, max_depth=5,learning_rate=0.1, min_child_weight=1)\n",
    "\n",
    "X_train, X_test, Y_train, Y_test = train_test_split(data, target_log, train_size=0.85, random_state=1234)\n",
    "\n",
    "print(\"X_train:\", X_train.shape, \" Y_train:\", Y_train.shape,\" X_test:\", X_test.shape, \" Y_test:\", Y_test.shape)\n",
    "\n",
    "start = time.time()\n",
    "early_stopping_rounds = 50\n",
    "model.fit(\n",
    "    X_train, Y_train, eval_set = [(X_test, Y_test)],\n",
    "    eval_metric=\"rmse\", early_stopping_rounds=early_stopping_rounds,\n",
    "    verbose=early_stopping_rounds\n",
    ")\n",
    "end = time.time() - start\n",
    "print(end)"
   ]
  },
  {
   "cell_type": "markdown",
   "metadata": {
    "collapsed": true
   },
   "source": [
    "### Predict"
   ]
  },
  {
   "cell_type": "code",
   "execution_count": 32,
   "metadata": {},
   "outputs": [
    {
     "name": "stdout",
     "output_type": "stream",
     "text": [
      "RMSLE score: 0.0590733782667  RMSLE without-log: 0.399306653321\n"
     ]
    }
   ],
   "source": [
    "Y_pred = model.predict(X_test)\n",
    "score = rmsle(Y_test, Y_pred)\n",
    "scoreBis = rmsle(Y_test, Y_pred, log=False)\n",
    "print(\"RMSLE score:\", score, \" RMSLE without-log:\", scoreBis)"
   ]
  },
  {
   "cell_type": "markdown",
   "metadata": {},
   "source": [
    "### Submission"
   ]
  },
  {
   "cell_type": "code",
   "execution_count": 33,
   "metadata": {
    "collapsed": true
   },
   "outputs": [],
   "source": [
    "dataSub = test_set.drop('id', axis=1).astype(float)\n",
    "Y_eval_log = model.predict(dataSub)\n",
    "Y_eval = np.exp(Y_eval_log.ravel())\n",
    "submit_file = pd.DataFrame({'id': test_set['id'], 'trip_duration': Y_eval})\n",
    "submit_file.to_csv('Data/submission.csv',index=False)"
   ]
  },
  {
   "cell_type": "code",
   "execution_count": null,
   "metadata": {
    "collapsed": true
   },
   "outputs": [],
   "source": []
  },
  {
   "cell_type": "code",
   "execution_count": null,
   "metadata": {
    "collapsed": true
   },
   "outputs": [],
   "source": []
  }
 ],
 "metadata": {
  "kernelspec": {
   "display_name": "Python 3",
   "language": "python",
   "name": "python3"
  },
  "language_info": {
   "codemirror_mode": {
    "name": "ipython",
    "version": 3
   },
   "file_extension": ".py",
   "mimetype": "text/x-python",
   "name": "python",
   "nbconvert_exporter": "python",
   "pygments_lexer": "ipython3",
   "version": "3.6.0"
  }
 },
 "nbformat": 4,
 "nbformat_minor": 2
}
